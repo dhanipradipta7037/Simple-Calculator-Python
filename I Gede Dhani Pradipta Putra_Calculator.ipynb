{
 "cells": [
  {
   "cell_type": "code",
   "execution_count": 2,
   "id": "196dfbd1",
   "metadata": {},
   "outputs": [
    {
     "name": "stdout",
     "output_type": "stream",
     "text": [
      "Pilih operator(+,-,/,*): +\n",
      "Input angka pertama: 2\n",
      "Input angka kedua: 3\n",
      "jawaban: 5\n",
      "Continue?y/n:n\n"
     ]
    }
   ],
   "source": [
    "cont = \"y\"\n",
    "while cont.lower() == \"y\":\n",
    "    the_operation = str(input('Pilih operator(+,-,/,*): '))\n",
    "    a=0\n",
    "    while True:\n",
    "        try:\n",
    "            a = int(input('Input angka pertama: '))\n",
    "        except ValueError:\n",
    "            print('Tolong input angka yang benar')\n",
    "            continue\n",
    "        else:\n",
    "            break\n",
    "\n",
    "    b=0\n",
    "    while True:\n",
    "        try:\n",
    "            b = int(input('Input angka kedua: '))\n",
    "        except ValueError:\n",
    "            print(\"Tolong input angka yang benar\")\n",
    "            continue\n",
    "        else:\n",
    "            break\n",
    "\n",
    "    if the_operation == '*':\n",
    "        hasil=a*b\n",
    "        print(f'jawaban: {hasil}')\n",
    "    elif the_operation == '+':\n",
    "        hasil=a+b\n",
    "        print(f'jawaban: {hasil}')\n",
    "    elif the_operation == '-':\n",
    "        hasil=a-b\n",
    "        print(f'jawaban: {hasil}')\n",
    "    elif the_operation == '/':\n",
    "        hasil=a/b\n",
    "        print(f'jawaban: {hasil}')\n",
    "    \n",
    "    cont = input(\"Continue?y/n:\")\n",
    "    if cont == \"n\":\n",
    "        break"
   ]
  },
  {
   "cell_type": "code",
   "execution_count": null,
   "id": "5b215e5d",
   "metadata": {},
   "outputs": [],
   "source": []
  },
  {
   "cell_type": "code",
   "execution_count": null,
   "id": "8406d804",
   "metadata": {},
   "outputs": [],
   "source": []
  }
 ],
 "metadata": {
  "kernelspec": {
   "display_name": "Python 3 (ipykernel)",
   "language": "python",
   "name": "python3"
  },
  "language_info": {
   "codemirror_mode": {
    "name": "ipython",
    "version": 3
   },
   "file_extension": ".py",
   "mimetype": "text/x-python",
   "name": "python",
   "nbconvert_exporter": "python",
   "pygments_lexer": "ipython3",
   "version": "3.10.4"
  }
 },
 "nbformat": 4,
 "nbformat_minor": 5
}
